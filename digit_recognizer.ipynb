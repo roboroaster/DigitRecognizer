{
  "metadata": {
    "kernelspec": {
      "display_name": "Python 3",
      "language": "python",
      "name": "python3"
    },
    "language_info": {
      "name": "python",
      "version": "3.6.6",
      "mimetype": "text/x-python",
      "codemirror_mode": {
        "name": "ipython",
        "version": 3
      },
      "pygments_lexer": "ipython3",
      "nbconvert_exporter": "python",
      "file_extension": ".py"
    },
    "colab": {
      "name": "digit-recognizer.ipynb",
      "provenance": [],
      "collapsed_sections": []
    },
    "accelerator": "GPU"
  },
  "nbformat_minor": 0,
  "nbformat": 4,
  "cells": [
    {
      "cell_type": "code",
      "source": [
        "!pip install keras"
      ],
      "metadata": {
        "colab": {
          "base_uri": "https://localhost:8080/"
        },
        "id": "j5rIqlwUQ2WY",
        "outputId": "85b60d95-96fa-4b3a-eb43-a31d318cf748"
      },
      "execution_count": 54,
      "outputs": [
        {
          "output_type": "stream",
          "name": "stdout",
          "text": [
            "Requirement already satisfied: keras in /usr/local/lib/python3.7/dist-packages (2.7.0)\n"
          ]
        }
      ]
    },
    {
      "cell_type": "code",
      "source": [
        "from google.colab import drive\n",
        "drive.mount('/content/drive')"
      ],
      "metadata": {
        "colab": {
          "base_uri": "https://localhost:8080/"
        },
        "id": "5t-wc6hhcRiy",
        "outputId": "34a45ec2-2f06-4cda-e6de-4acf20f753f0"
      },
      "execution_count": 55,
      "outputs": [
        {
          "output_type": "stream",
          "name": "stdout",
          "text": [
            "Drive already mounted at /content/drive; to attempt to forcibly remount, call drive.mount(\"/content/drive\", force_remount=True).\n"
          ]
        }
      ]
    },
    {
      "cell_type": "code",
      "source": [
        "# Import the necessary libs\n",
        "import pandas as pd\n",
        "import numpy as np\n",
        "import matplotlib.pyplot as plt\n",
        "import matplotlib.image as mpimg\n",
        "import seaborn as sns\n",
        "%matplotlib inline\n",
        "\n",
        "np.random.seed(2)\n",
        "\n",
        "from sklearn.model_selection import train_test_split\n",
        "from sklearn.metrics import confusion_matrix\n",
        "import itertools\n",
        "\n",
        "from keras.utils.np_utils import to_categorical # convert to one-hot-encoding\n",
        "from keras.models import Sequential\n",
        "from keras.layers import Dense, Dropout, Flatten, Conv2D, MaxPool2D, BatchNormalization\n",
        "# from keras.optimizers import RMSprop\n",
        "from tensorflow.keras.optimizers import RMSprop\n",
        "from keras.preprocessing.image import ImageDataGenerator\n",
        "from keras.callbacks import ReduceLROnPlateau\n",
        "from keras.datasets import mnist\n",
        "\n",
        "sns.set(style='white', context='notebook', palette='deep')"
      ],
      "metadata": {
        "_uuid": "8f2839f25d086af736a60e9eeb907d3b93b6e0e5",
        "_cell_guid": "b1076dfc-b9ad-4769-8c92-a6c4dae69d19",
        "execution": {
          "iopub.status.busy": "2021-12-22T07:46:30.609980Z",
          "iopub.execute_input": "2021-12-22T07:46:30.610262Z",
          "iopub.status.idle": "2021-12-22T07:46:33.387803Z",
          "shell.execute_reply.started": "2021-12-22T07:46:30.610212Z",
          "shell.execute_reply": "2021-12-22T07:46:33.387108Z"
        },
        "trusted": true,
        "id": "Rmm4wzD5QcGE"
      },
      "execution_count": 56,
      "outputs": []
    },
    {
      "cell_type": "code",
      "source": [
        ""
      ],
      "metadata": {
        "id": "Wqt-uN9URSBM"
      },
      "execution_count": 56,
      "outputs": []
    },
    {
      "cell_type": "code",
      "source": [
        "# load Data\n",
        "# train = pd.read_csv(\"/content/train.csv\")\n",
        "# test = pd.read_csv(\"/content/test.csv\")\n",
        "train = pd.read_csv(\"/content/drive/MyDrive/colab dataset/digit_recognizer_dataset/train.csv\")\n",
        "test = pd.read_csv(\"/content/drive/MyDrive/colab dataset/digit_recognizer_dataset/test.csv\")\n",
        "print(train.head())\n",
        "Y_train = train[\"label\"]\n",
        "X_train = train.drop(labels = [\"label\"], axis = 1) "
      ],
      "metadata": {
        "_cell_guid": "79c7e3d0-c299-4dcb-8224-4455121ee9b0",
        "_uuid": "d629ff2d2480ee46fbb7e2d37f6b5fab8052498a",
        "execution": {
          "iopub.status.busy": "2021-12-22T07:46:33.389764Z",
          "iopub.execute_input": "2021-12-22T07:46:33.390042Z",
          "iopub.status.idle": "2021-12-22T07:46:39.251970Z",
          "shell.execute_reply.started": "2021-12-22T07:46:33.389993Z",
          "shell.execute_reply": "2021-12-22T07:46:39.251120Z"
        },
        "trusted": true,
        "colab": {
          "base_uri": "https://localhost:8080/"
        },
        "id": "DkB0cM9NQcGJ",
        "outputId": "5dc84fcb-1860-4212-a02d-d4757aadd398"
      },
      "execution_count": 57,
      "outputs": [
        {
          "output_type": "stream",
          "name": "stdout",
          "text": [
            "   label  pixel0  pixel1  pixel2  ...  pixel780  pixel781  pixel782  pixel783\n",
            "0      1       0       0       0  ...         0         0         0         0\n",
            "1      0       0       0       0  ...         0         0         0         0\n",
            "2      1       0       0       0  ...         0         0         0         0\n",
            "3      4       0       0       0  ...         0         0         0         0\n",
            "4      0       0       0       0  ...         0         0         0         0\n",
            "\n",
            "[5 rows x 785 columns]\n"
          ]
        }
      ]
    },
    {
      "cell_type": "code",
      "source": [
        "# Load more data sets, if there is no such data, validation accuracy = 0.9964\n",
        "# With this batch of data, the validation accuracy can reach 0.9985\n",
        "(x_train1, y_train1), (x_test1, y_test1) = mnist.load_data()\n",
        "\n",
        "train1 = np.concatenate([x_train1, x_test1], axis=0)\n",
        "y_train1 = np.concatenate([y_train1, y_test1], axis=0)\n",
        "\n",
        "Y_train1 = y_train1\n",
        "X_train1 = train1.reshape(-1, 28*28)"
      ],
      "metadata": {
        "_uuid": "5a4b2dcee2d169ce3fc06816c81da65452240799",
        "execution": {
          "iopub.status.busy": "2021-12-22T07:46:39.253491Z",
          "iopub.execute_input": "2021-12-22T07:46:39.253786Z",
          "iopub.status.idle": "2021-12-22T07:46:40.714796Z",
          "shell.execute_reply.started": "2021-12-22T07:46:39.253738Z",
          "shell.execute_reply": "2021-12-22T07:46:40.713761Z"
        },
        "trusted": true,
        "id": "RtSf5Z3AQcGK"
      },
      "execution_count": 58,
      "outputs": []
    },
    {
      "cell_type": "code",
      "source": [
        "# Print data histogram\n",
        "g = sns.countplot(Y_train)"
      ],
      "metadata": {
        "_uuid": "22c0b3a1fbc8246a25fc82698fee940f750286ca",
        "execution": {
          "iopub.status.busy": "2021-12-22T07:46:40.716321Z",
          "iopub.execute_input": "2021-12-22T07:46:40.716654Z",
          "iopub.status.idle": "2021-12-22T07:46:40.996850Z",
          "shell.execute_reply.started": "2021-12-22T07:46:40.716585Z",
          "shell.execute_reply": "2021-12-22T07:46:40.995937Z"
        },
        "trusted": true,
        "id": "QGlaxU3hQcGL",
        "colab": {
          "base_uri": "https://localhost:8080/",
          "height": 340
        },
        "outputId": "7d592e0f-a996-4a49-fee9-4a0f4030744d"
      },
      "execution_count": 59,
      "outputs": [
        {
          "output_type": "stream",
          "name": "stderr",
          "text": [
            "/usr/local/lib/python3.7/dist-packages/seaborn/_decorators.py:43: FutureWarning: Pass the following variable as a keyword arg: x. From version 0.12, the only valid positional argument will be `data`, and passing other arguments without an explicit keyword will result in an error or misinterpretation.\n",
            "  FutureWarning\n"
          ]
        },
        {
          "output_type": "display_data",
          "data": {
            "image/png": "[encoded data removed]",
            "text/plain": [
              "<Figure size 432x288 with 1 Axes>"
            ]
          },
          "metadata": {}
        }
      ]
    },
    {
      "cell_type": "code",
      "source": [
        "# Normalize data to make CNN faster\n",
        "X_train = X_train / 255.0\n",
        "test = test / 255.0\n",
        "\n",
        "X_train1 = X_train1 / 255.0"
      ],
      "metadata": {
        "_uuid": "15ba2b09f4e13d802d0251e22a2f2926f91c051f",
        "execution": {
          "iopub.status.busy": "2021-12-22T07:46:41.000564Z",
          "iopub.execute_input": "2021-12-22T07:46:41.001068Z",
          "iopub.status.idle": "2021-12-22T07:46:42.859559Z",
          "shell.execute_reply.started": "2021-12-22T07:46:41.000901Z",
          "shell.execute_reply": "2021-12-22T07:46:42.858826Z"
        },
        "trusted": true,
        "id": "MJTfM9LBQcGM"
      },
      "execution_count": 60,
      "outputs": []
    },
    {
      "cell_type": "code",
      "source": [
        "# Reshape Picture is 3D array (height = 28px, width = 28px , canal = 1)\n",
        "X_train = np.concatenate((X_train.values, X_train1))\n",
        "Y_train = np.concatenate((Y_train, Y_train1))"
      ],
      "metadata": {
        "_uuid": "1fbda439ba2cda5750a39d8a0052d7fa36f75712",
        "execution": {
          "iopub.status.busy": "2021-12-22T07:46:42.863860Z",
          "iopub.execute_input": "2021-12-22T07:46:42.864108Z",
          "iopub.status.idle": "2021-12-22T07:46:43.395941Z",
          "shell.execute_reply.started": "2021-12-22T07:46:42.864062Z",
          "shell.execute_reply": "2021-12-22T07:46:43.395139Z"
        },
        "trusted": true,
        "id": "TdjyqyHuQcGM"
      },
      "execution_count": 61,
      "outputs": []
    },
    {
      "cell_type": "code",
      "source": [
        "X_train = X_train.reshape(-1,28,28,1)\n",
        "test = test.values.reshape(-1,28,28,1)"
      ],
      "metadata": {
        "_uuid": "0806198527101b7e035b19e23d080bb06b576d17",
        "execution": {
          "iopub.status.busy": "2021-12-22T07:46:43.397335Z",
          "iopub.execute_input": "2021-12-22T07:46:43.397660Z",
          "iopub.status.idle": "2021-12-22T07:46:43.403437Z",
          "shell.execute_reply.started": "2021-12-22T07:46:43.397592Z",
          "shell.execute_reply": "2021-12-22T07:46:43.402653Z"
        },
        "trusted": true,
        "id": "5RlJi8TWQcGN"
      },
      "execution_count": 62,
      "outputs": []
    },
    {
      "cell_type": "code",
      "source": [
        "# Convert label to one hot vectors (ex : 2 -> [0,0,1,0,0,0,0,0,0,0])\n",
        "Y_train = to_categorical(Y_train, num_classes = 10)"
      ],
      "metadata": {
        "_uuid": "bcfa0e540a8168ed6aa45102eb165a2c1c1b1414",
        "execution": {
          "iopub.status.busy": "2021-12-22T07:46:43.404734Z",
          "iopub.execute_input": "2021-12-22T07:46:43.405169Z",
          "iopub.status.idle": "2021-12-22T07:46:43.414794Z",
          "shell.execute_reply.started": "2021-12-22T07:46:43.405118Z",
          "shell.execute_reply": "2021-12-22T07:46:43.414010Z"
        },
        "trusted": true,
        "id": "uBbv-L0HQcGO"
      },
      "execution_count": 63,
      "outputs": []
    },
    {
      "cell_type": "code",
      "source": [
        "# Split dataset into training set and validation set\n",
        "X_train, X_val, Y_train, Y_val = train_test_split(X_train, Y_train, test_size = 0.1, random_state=2)"
      ],
      "metadata": {
        "_uuid": "6dd248708c7f4f8954b7224b48e3223938c43495",
        "execution": {
          "iopub.status.busy": "2021-12-22T07:46:43.416473Z",
          "iopub.execute_input": "2021-12-22T07:46:43.416956Z",
          "iopub.status.idle": "2021-12-22T07:46:43.913236Z",
          "shell.execute_reply.started": "2021-12-22T07:46:43.416775Z",
          "shell.execute_reply": "2021-12-22T07:46:43.912395Z"
        },
        "trusted": true,
        "id": "GG9QyI-KQcGP"
      },
      "execution_count": 64,
      "outputs": []
    },
    {
      "cell_type": "code",
      "source": [
        "# Draw an example of a data set to see\n",
        "g = plt.imshow(X_train[189][:,:,0])"
      ],
      "metadata": {
        "_uuid": "c7866d3f98ebe3a24e98fe5616aaa63261745500",
        "execution": {
          "iopub.status.busy": "2021-12-22T07:46:43.915670Z",
          "iopub.execute_input": "2021-12-22T07:46:43.916216Z",
          "iopub.status.idle": "2021-12-22T07:46:44.136622Z",
          "shell.execute_reply.started": "2021-12-22T07:46:43.916145Z",
          "shell.execute_reply": "2021-12-22T07:46:44.135758Z"
        },
        "trusted": true,
        "id": "Msu7IlBWQcGQ",
        "colab": {
          "base_uri": "https://localhost:8080/",
          "height": 268
        },
        "outputId": "cdfebe1f-26c1-47b3-b19b-12bbad315e78"
      },
      "execution_count": 65,
      "outputs": [
        {
          "output_type": "display_data",
          "data": {
            "image/png": "[encoded data removed]",
            "text/plain": [
              "<Figure size 432x288 with 1 Axes>"
            ]
          },
          "metadata": {}
        }
      ]
    },
    {
      "cell_type": "code",
      "source": [
        "#Creating CNN model\n",
        "\"\"\"\n",
        "  [[Conv2D->relu]*2 -> BatchNormalization -> MaxPool2D -> Dropout]*2 -> \n",
        "  [Conv2D->relu]*2 -> BatchNormalization -> Dropout -> \n",
        "  Flatten -> Dense -> BatchNormalization -> Dropout -> Out\n",
        "\"\"\"\n",
        "model = Sequential()\n",
        "\n",
        "model.add(Conv2D(filters = 64, kernel_size = (5,5),padding = 'Same', activation ='relu', input_shape = (28,28,1)))\n",
        "model.add(BatchNormalization())\n",
        "\n",
        "model.add(Conv2D(filters = 64, kernel_size = (5,5),padding = 'Same', activation ='relu'))\n",
        "model.add(BatchNormalization())\n",
        "\n",
        "model.add(MaxPool2D(pool_size=(2,2)))\n",
        "model.add(Dropout(0.25))\n",
        "\n",
        "model.add(Conv2D(filters = 64, kernel_size = (3,3),padding = 'Same', activation ='relu'))\n",
        "model.add(BatchNormalization())\n",
        "\n",
        "model.add(Conv2D(filters = 64, kernel_size = (3,3),padding = 'Same', activation ='relu'))\n",
        "model.add(BatchNormalization())\n",
        "model.add(MaxPool2D(pool_size=(2,2), strides=(2,2)))\n",
        "model.add(Dropout(0.25))\n",
        "\n",
        "model.add(Conv2D(filters = 64, kernel_size = (3,3), padding = 'Same',  activation ='relu'))\n",
        "model.add(BatchNormalization())\n",
        "model.add(Dropout(0.25))\n",
        "\n",
        "model.add(Flatten())\n",
        "model.add(Dense(256, activation = \"relu\"))\n",
        "model.add(BatchNormalization())\n",
        "model.add(Dropout(0.25))\n",
        "\n",
        "model.add(Dense(10, activation = \"softmax\"))\n",
        "model.summary()"
      ],
      "metadata": {
        "_uuid": "6e2e5990ea804642d89167c422ba4c0c6de12391",
        "execution": {
          "iopub.status.busy": "2021-12-22T07:46:44.141514Z",
          "iopub.execute_input": "2021-12-22T07:46:44.144005Z",
          "iopub.status.idle": "2021-12-22T07:46:46.937930Z",
          "shell.execute_reply.started": "2021-12-22T07:46:44.143941Z",
          "shell.execute_reply": "2021-12-22T07:46:46.937233Z"
        },
        "trusted": true,
        "id": "SuYrax0VQcGQ",
        "colab": {
          "base_uri": "https://localhost:8080/"
        },
        "outputId": "7e844802-f5d6-4d4d-b1f6-4b59c3ba8b36"
      },
      "execution_count": 66,
      "outputs": [
        {
          "output_type": "stream",
          "name": "stdout",
          "text": [
            "Model: \"sequential_2\"\n",
            "_________________________________________________________________\n",
            " Layer (type)                Output Shape              Param #   \n",
            "=================================================================\n",
            " conv2d_10 (Conv2D)          (None, 28, 28, 64)        1664      \n",
            "                                                                 \n",
            " batch_normalization_12 (Bat  (None, 28, 28, 64)       256       \n",
            " chNormalization)                                                \n",
            "                                                                 \n",
            " conv2d_11 (Conv2D)          (None, 28, 28, 64)        102464    \n",
            "                                                                 \n",
            " batch_normalization_13 (Bat  (None, 28, 28, 64)       256       \n",
            " chNormalization)                                                \n",
            "                                                                 \n",
            " max_pooling2d_4 (MaxPooling  (None, 14, 14, 64)       0         \n",
            " 2D)                                                             \n",
            "                                                                 \n",
            " dropout_8 (Dropout)         (None, 14, 14, 64)        0         \n",
            "                                                                 \n",
            " conv2d_12 (Conv2D)          (None, 14, 14, 64)        36928     \n",
            "                                                                 \n",
            " batch_normalization_14 (Bat  (None, 14, 14, 64)       256       \n",
            " chNormalization)                                                \n",
            "                                                                 \n",
            " conv2d_13 (Conv2D)          (None, 14, 14, 64)        36928     \n",
            "                                                                 \n",
            " batch_normalization_15 (Bat  (None, 14, 14, 64)       256       \n",
            " chNormalization)                                                \n",
            "                                                                 \n",
            " max_pooling2d_5 (MaxPooling  (None, 7, 7, 64)         0         \n",
            " 2D)                                                             \n",
            "                                                                 \n",
            " dropout_9 (Dropout)         (None, 7, 7, 64)          0         \n",
            "                                                                 \n",
            " conv2d_14 (Conv2D)          (None, 7, 7, 64)          36928     \n",
            "                                                                 \n",
            " batch_normalization_16 (Bat  (None, 7, 7, 64)         256       \n",
            " chNormalization)                                                \n",
            "                                                                 \n",
            " dropout_10 (Dropout)        (None, 7, 7, 64)          0         \n",
            "                                                                 \n",
            " flatten_2 (Flatten)         (None, 3136)              0         \n",
            "                                                                 \n",
            " dense_4 (Dense)             (None, 256)               803072    \n",
            "                                                                 \n",
            " batch_normalization_17 (Bat  (None, 256)              1024      \n",
            " chNormalization)                                                \n",
            "                                                                 \n",
            " dropout_11 (Dropout)        (None, 256)               0         \n",
            "                                                                 \n",
            " dense_5 (Dense)             (None, 10)                2570      \n",
            "                                                                 \n",
            "=================================================================\n",
            "Total params: 1,022,858\n",
            "Trainable params: 1,021,706\n",
            "Non-trainable params: 1,152\n",
            "_________________________________________________________________\n"
          ]
        }
      ]
    },
    {
      "cell_type": "code",
      "source": [
        "# # print out model look\n",
        "# from keras.utils import plot_model\n",
        "# plot_model(model, to_file='model.png', show_shapes=True, show_layer_names=True)\n",
        "# from IPython.display import Image\n",
        "# Image(\"model.png\")"
      ],
      "metadata": {
        "_uuid": "cedc2d384512ea3b12c0d46f652198f03bf5bd55",
        "execution": {
          "iopub.status.busy": "2021-12-22T07:46:46.939174Z",
          "iopub.execute_input": "2021-12-22T07:46:46.939450Z",
          "iopub.status.idle": "2021-12-22T07:46:48.223382Z",
          "shell.execute_reply.started": "2021-12-22T07:46:46.939403Z",
          "shell.execute_reply": "2021-12-22T07:46:48.222387Z"
        },
        "trusted": true,
        "id": "RhNwqCjtQcGR"
      },
      "execution_count": 67,
      "outputs": []
    },
    {
      "cell_type": "code",
      "source": [
        "# Define Optimizer\n",
        "optimizer = RMSprop(lr=0.001, rho=0.9, epsilon=1e-08, decay=0.0)"
      ],
      "metadata": {
        "_uuid": "037ca9731e61537769531376e3c02ab5ce6a8c18",
        "execution": {
          "iopub.status.busy": "2021-12-22T07:46:48.224822Z",
          "iopub.execute_input": "2021-12-22T07:46:48.225098Z",
          "iopub.status.idle": "2021-12-22T07:46:48.246597Z",
          "shell.execute_reply.started": "2021-12-22T07:46:48.225055Z",
          "shell.execute_reply": "2021-12-22T07:46:48.245963Z"
        },
        "trusted": true,
        "id": "Q-ewLdFdQcGS",
        "colab": {
          "base_uri": "https://localhost:8080/"
        },
        "outputId": "7d1831f8-491d-4f52-ae9e-1b2d6c8f325c"
      },
      "execution_count": 68,
      "outputs": [
        {
          "output_type": "stream",
          "name": "stderr",
          "text": [
            "/usr/local/lib/python3.7/dist-packages/keras/optimizer_v2/rmsprop.py:130: UserWarning: The `lr` argument is deprecated, use `learning_rate` instead.\n",
            "  super(RMSprop, self).__init__(name, **kwargs)\n"
          ]
        }
      ]
    },
    {
      "cell_type": "code",
      "source": [
        "# Compile model\n",
        "model.compile(optimizer = optimizer , loss = \"categorical_crossentropy\", metrics=[\"accuracy\"])"
      ],
      "metadata": {
        "_uuid": "807ec021c1ab973a0506d14caf66b5d8777490a7",
        "execution": {
          "iopub.status.busy": "2021-12-22T07:46:48.248279Z",
          "iopub.execute_input": "2021-12-22T07:46:48.248723Z",
          "iopub.status.idle": "2021-12-22T07:46:48.278525Z",
          "shell.execute_reply.started": "2021-12-22T07:46:48.248538Z",
          "shell.execute_reply": "2021-12-22T07:46:48.277922Z"
        },
        "trusted": true,
        "id": "g9B_CjVtQcGT"
      },
      "execution_count": 69,
      "outputs": []
    },
    {
      "cell_type": "code",
      "source": [
        "# Audjusting learning rate\n",
        "learning_rate_reduction = ReduceLROnPlateau(monitor='val_acc', \n",
        "                                            patience=3, \n",
        "                                            verbose=1, \n",
        "                                            factor=0.5, \n",
        "                                            min_lr=0.00001)"
      ],
      "metadata": {
        "_uuid": "7bab2f865ea70bcccb6ec181369db75ddcf13110",
        "execution": {
          "iopub.status.busy": "2021-12-22T07:46:48.280123Z",
          "iopub.execute_input": "2021-12-22T07:46:48.280577Z",
          "iopub.status.idle": "2021-12-22T07:46:48.285472Z",
          "shell.execute_reply.started": "2021-12-22T07:46:48.280387Z",
          "shell.execute_reply": "2021-12-22T07:46:48.284710Z"
        },
        "trusted": true,
        "id": "dLcm68g5QcGU"
      },
      "execution_count": 70,
      "outputs": []
    },
    {
      "cell_type": "code",
      "source": [
        "#Adjusting epochs and batch_size\n",
        "epochs = 50\n",
        "batch_size = 128"
      ],
      "metadata": {
        "_uuid": "cc78b198d12ff5cd785f200fbb11f154dc7dfafe",
        "execution": {
          "iopub.status.busy": "2021-12-22T07:46:48.286849Z",
          "iopub.execute_input": "2021-12-22T07:46:48.287323Z",
          "iopub.status.idle": "2021-12-22T07:46:48.296530Z",
          "shell.execute_reply.started": "2021-12-22T07:46:48.287273Z",
          "shell.execute_reply": "2021-12-22T07:46:48.295842Z"
        },
        "trusted": true,
        "id": "6iBPz3ueQcGU"
      },
      "execution_count": 71,
      "outputs": []
    },
    {
      "cell_type": "code",
      "source": [
        "#Data Augmentation \n",
        "datagen = ImageDataGenerator(\n",
        "        featurewise_center=False, # set input mean to 0 over the dataset\n",
        "        samplewise_center=False,  # set each sample mean to 0\n",
        "        featurewise_std_normalization=False,  # divide inputs by std of the dataset\n",
        "        samplewise_std_normalization=False,  # divide each input by its std\n",
        "        zca_whitening=False,  # apply ZCA whitening\n",
        "        rotation_range=10,  # randomly rotate images in the range (degrees, 0 to 180)\n",
        "        zoom_range = 0.1, # Randomly zoom image \n",
        "        width_shift_range=0.1,  # randomly shift images horizontally (fraction of total width)\n",
        "        height_shift_range=0.1,  # randomly shift images vertically (fraction of total height)\n",
        "        horizontal_flip=False,  # randomly flip images\n",
        "        vertical_flip=False)  # randomly flip images\n",
        "datagen.fit(X_train)"
      ],
      "metadata": {
        "_uuid": "931940a6c0eb999aa2eef607ec5688989891c514",
        "execution": {
          "iopub.status.busy": "2021-12-22T07:46:48.298214Z",
          "iopub.execute_input": "2021-12-22T07:46:48.298773Z",
          "iopub.status.idle": "2021-12-22T07:46:48.775578Z",
          "shell.execute_reply.started": "2021-12-22T07:46:48.298528Z",
          "shell.execute_reply": "2021-12-22T07:46:48.774713Z"
        },
        "trusted": true,
        "id": "8jmoLWs2QcGV"
      },
      "execution_count": 72,
      "outputs": []
    },
    {
      "cell_type": "code",
      "source": [
        "#Prediction model\n",
        "history = model.fit_generator(datagen.flow(X_train,Y_train, batch_size=batch_size),\n",
        "                              epochs = epochs, validation_data = (X_val,Y_val),\n",
        "                              verbose = 2, steps_per_epoch=X_train.shape[0] // batch_size\n",
        "                              , callbacks=[learning_rate_reduction])"
      ],
      "metadata": {
        "_uuid": "8d4946afedc9e577f07ea023624a336e336470c5",
        "execution": {
          "iopub.status.busy": "2021-12-22T07:46:48.776889Z",
          "iopub.execute_input": "2021-12-22T07:46:48.777181Z",
          "iopub.status.idle": "2021-12-22T08:11:49.386924Z",
          "shell.execute_reply.started": "2021-12-22T07:46:48.777136Z",
          "shell.execute_reply": "2021-12-22T08:11:49.386131Z"
        },
        "trusted": true,
        "id": "ie088OUqQcGV",
        "colab": {
          "base_uri": "https://localhost:8080/"
        },
        "outputId": "e9c61371-2042-4469-e849-ab64396cd699"
      },
      "execution_count": 73,
      "outputs": [
        {
          "output_type": "stream",
          "name": "stderr",
          "text": [
            "/usr/local/lib/python3.7/dist-packages/ipykernel_launcher.py:5: UserWarning: `Model.fit_generator` is deprecated and will be removed in a future version. Please use `Model.fit`, which supports generators.\n",
            "  \"\"\"\n"
          ]
        },
        {
          "output_type": "stream",
          "name": "stdout",
          "text": [
            "Epoch 1/50\n",
            "WARNING:tensorflow:Learning rate reduction is conditioned on metric `val_acc` which is not available. Available metrics are: loss,accuracy,val_loss,val_accuracy,lr\n",
            "787/787 - 68s - loss: 0.1432 - accuracy: 0.9556 - val_loss: 0.0362 - val_accuracy: 0.9894 - lr: 0.0010 - 68s/epoch - 87ms/step\n",
            "Epoch 2/50\n",
            "WARNING:tensorflow:Learning rate reduction is conditioned on metric `val_acc` which is not available. Available metrics are: loss,accuracy,val_loss,val_accuracy,lr\n",
            "787/787 - 52s - loss: 0.0490 - accuracy: 0.9850 - val_loss: 0.0431 - val_accuracy: 0.9880 - lr: 0.0010 - 52s/epoch - 66ms/step\n",
            "Epoch 3/50\n",
            "WARNING:tensorflow:Learning rate reduction is conditioned on metric `val_acc` which is not available. Available metrics are: loss,accuracy,val_loss,val_accuracy,lr\n",
            "787/787 - 49s - loss: 0.0401 - accuracy: 0.9879 - val_loss: 0.0261 - val_accuracy: 0.9916 - lr: 0.0010 - 49s/epoch - 62ms/step\n",
            "Epoch 4/50\n",
            "WARNING:tensorflow:Learning rate reduction is conditioned on metric `val_acc` which is not available. Available metrics are: loss,accuracy,val_loss,val_accuracy,lr\n",
            "787/787 - 50s - loss: 0.0336 - accuracy: 0.9894 - val_loss: 0.0208 - val_accuracy: 0.9935 - lr: 0.0010 - 50s/epoch - 63ms/step\n",
            "Epoch 5/50\n",
            "WARNING:tensorflow:Learning rate reduction is conditioned on metric `val_acc` which is not available. Available metrics are: loss,accuracy,val_loss,val_accuracy,lr\n",
            "787/787 - 48s - loss: 0.0299 - accuracy: 0.9908 - val_loss: 0.0268 - val_accuracy: 0.9917 - lr: 0.0010 - 48s/epoch - 61ms/step\n",
            "Epoch 6/50\n",
            "WARNING:tensorflow:Learning rate reduction is conditioned on metric `val_acc` which is not available. Available metrics are: loss,accuracy,val_loss,val_accuracy,lr\n",
            "787/787 - 49s - loss: 0.0273 - accuracy: 0.9917 - val_loss: 0.0150 - val_accuracy: 0.9956 - lr: 0.0010 - 49s/epoch - 63ms/step\n",
            "Epoch 7/50\n",
            "WARNING:tensorflow:Learning rate reduction is conditioned on metric `val_acc` which is not available. Available metrics are: loss,accuracy,val_loss,val_accuracy,lr\n",
            "787/787 - 48s - loss: 0.0254 - accuracy: 0.9923 - val_loss: 0.0160 - val_accuracy: 0.9954 - lr: 0.0010 - 48s/epoch - 60ms/step\n",
            "Epoch 8/50\n",
            "WARNING:tensorflow:Learning rate reduction is conditioned on metric `val_acc` which is not available. Available metrics are: loss,accuracy,val_loss,val_accuracy,lr\n",
            "787/787 - 47s - loss: 0.0234 - accuracy: 0.9927 - val_loss: 0.0177 - val_accuracy: 0.9953 - lr: 0.0010 - 47s/epoch - 60ms/step\n",
            "Epoch 9/50\n",
            "WARNING:tensorflow:Learning rate reduction is conditioned on metric `val_acc` which is not available. Available metrics are: loss,accuracy,val_loss,val_accuracy,lr\n",
            "787/787 - 49s - loss: 0.0228 - accuracy: 0.9932 - val_loss: 0.0206 - val_accuracy: 0.9944 - lr: 0.0010 - 49s/epoch - 63ms/step\n",
            "Epoch 10/50\n",
            "WARNING:tensorflow:Learning rate reduction is conditioned on metric `val_acc` which is not available. Available metrics are: loss,accuracy,val_loss,val_accuracy,lr\n",
            "787/787 - 48s - loss: 0.0222 - accuracy: 0.9935 - val_loss: 0.0249 - val_accuracy: 0.9936 - lr: 0.0010 - 48s/epoch - 61ms/step\n",
            "Epoch 11/50\n",
            "WARNING:tensorflow:Learning rate reduction is conditioned on metric `val_acc` which is not available. Available metrics are: loss,accuracy,val_loss,val_accuracy,lr\n",
            "787/787 - 47s - loss: 0.0200 - accuracy: 0.9940 - val_loss: 0.0162 - val_accuracy: 0.9960 - lr: 0.0010 - 47s/epoch - 60ms/step\n",
            "Epoch 12/50\n",
            "WARNING:tensorflow:Learning rate reduction is conditioned on metric `val_acc` which is not available. Available metrics are: loss,accuracy,val_loss,val_accuracy,lr\n",
            "787/787 - 49s - loss: 0.0200 - accuracy: 0.9940 - val_loss: 0.0130 - val_accuracy: 0.9961 - lr: 0.0010 - 49s/epoch - 63ms/step\n",
            "Epoch 13/50\n",
            "WARNING:tensorflow:Learning rate reduction is conditioned on metric `val_acc` which is not available. Available metrics are: loss,accuracy,val_loss,val_accuracy,lr\n",
            "787/787 - 50s - loss: 0.0182 - accuracy: 0.9942 - val_loss: 0.0146 - val_accuracy: 0.9959 - lr: 0.0010 - 50s/epoch - 63ms/step\n",
            "Epoch 14/50\n",
            "WARNING:tensorflow:Learning rate reduction is conditioned on metric `val_acc` which is not available. Available metrics are: loss,accuracy,val_loss,val_accuracy,lr\n",
            "787/787 - 49s - loss: 0.0182 - accuracy: 0.9942 - val_loss: 0.0201 - val_accuracy: 0.9929 - lr: 0.0010 - 49s/epoch - 62ms/step\n",
            "Epoch 15/50\n",
            "WARNING:tensorflow:Learning rate reduction is conditioned on metric `val_acc` which is not available. Available metrics are: loss,accuracy,val_loss,val_accuracy,lr\n",
            "787/787 - 48s - loss: 0.0173 - accuracy: 0.9951 - val_loss: 0.0114 - val_accuracy: 0.9964 - lr: 0.0010 - 48s/epoch - 62ms/step\n",
            "Epoch 16/50\n",
            "WARNING:tensorflow:Learning rate reduction is conditioned on metric `val_acc` which is not available. Available metrics are: loss,accuracy,val_loss,val_accuracy,lr\n",
            "787/787 - 48s - loss: 0.0180 - accuracy: 0.9944 - val_loss: 0.0130 - val_accuracy: 0.9968 - lr: 0.0010 - 48s/epoch - 62ms/step\n",
            "Epoch 17/50\n",
            "WARNING:tensorflow:Learning rate reduction is conditioned on metric `val_acc` which is not available. Available metrics are: loss,accuracy,val_loss,val_accuracy,lr\n",
            "787/787 - 49s - loss: 0.0166 - accuracy: 0.9952 - val_loss: 0.0155 - val_accuracy: 0.9960 - lr: 0.0010 - 49s/epoch - 62ms/step\n",
            "Epoch 18/50\n",
            "WARNING:tensorflow:Learning rate reduction is conditioned on metric `val_acc` which is not available. Available metrics are: loss,accuracy,val_loss,val_accuracy,lr\n",
            "787/787 - 49s - loss: 0.0160 - accuracy: 0.9949 - val_loss: 0.0101 - val_accuracy: 0.9974 - lr: 0.0010 - 49s/epoch - 62ms/step\n",
            "Epoch 19/50\n",
            "WARNING:tensorflow:Learning rate reduction is conditioned on metric `val_acc` which is not available. Available metrics are: loss,accuracy,val_loss,val_accuracy,lr\n",
            "787/787 - 48s - loss: 0.0157 - accuracy: 0.9955 - val_loss: 0.0102 - val_accuracy: 0.9967 - lr: 0.0010 - 48s/epoch - 61ms/step\n",
            "Epoch 20/50\n",
            "WARNING:tensorflow:Learning rate reduction is conditioned on metric `val_acc` which is not available. Available metrics are: loss,accuracy,val_loss,val_accuracy,lr\n",
            "787/787 - 48s - loss: 0.0151 - accuracy: 0.9956 - val_loss: 0.0120 - val_accuracy: 0.9965 - lr: 0.0010 - 48s/epoch - 61ms/step\n",
            "Epoch 21/50\n",
            "WARNING:tensorflow:Learning rate reduction is conditioned on metric `val_acc` which is not available. Available metrics are: loss,accuracy,val_loss,val_accuracy,lr\n",
            "787/787 - 47s - loss: 0.0139 - accuracy: 0.9959 - val_loss: 0.0101 - val_accuracy: 0.9971 - lr: 0.0010 - 47s/epoch - 60ms/step\n",
            "Epoch 22/50\n",
            "WARNING:tensorflow:Learning rate reduction is conditioned on metric `val_acc` which is not available. Available metrics are: loss,accuracy,val_loss,val_accuracy,lr\n",
            "787/787 - 47s - loss: 0.0142 - accuracy: 0.9956 - val_loss: 0.0102 - val_accuracy: 0.9972 - lr: 0.0010 - 47s/epoch - 60ms/step\n",
            "Epoch 23/50\n",
            "WARNING:tensorflow:Learning rate reduction is conditioned on metric `val_acc` which is not available. Available metrics are: loss,accuracy,val_loss,val_accuracy,lr\n",
            "787/787 - 47s - loss: 0.0136 - accuracy: 0.9962 - val_loss: 0.0107 - val_accuracy: 0.9975 - lr: 0.0010 - 47s/epoch - 59ms/step\n",
            "Epoch 24/50\n",
            "WARNING:tensorflow:Learning rate reduction is conditioned on metric `val_acc` which is not available. Available metrics are: loss,accuracy,val_loss,val_accuracy,lr\n",
            "787/787 - 49s - loss: 0.0143 - accuracy: 0.9957 - val_loss: 0.0082 - val_accuracy: 0.9974 - lr: 0.0010 - 49s/epoch - 62ms/step\n",
            "Epoch 25/50\n",
            "WARNING:tensorflow:Learning rate reduction is conditioned on metric `val_acc` which is not available. Available metrics are: loss,accuracy,val_loss,val_accuracy,lr\n",
            "787/787 - 48s - loss: 0.0145 - accuracy: 0.9959 - val_loss: 0.0110 - val_accuracy: 0.9971 - lr: 0.0010 - 48s/epoch - 61ms/step\n",
            "Epoch 26/50\n",
            "WARNING:tensorflow:Learning rate reduction is conditioned on metric `val_acc` which is not available. Available metrics are: loss,accuracy,val_loss,val_accuracy,lr\n",
            "787/787 - 47s - loss: 0.0137 - accuracy: 0.9958 - val_loss: 0.0105 - val_accuracy: 0.9974 - lr: 0.0010 - 47s/epoch - 60ms/step\n",
            "Epoch 27/50\n",
            "WARNING:tensorflow:Learning rate reduction is conditioned on metric `val_acc` which is not available. Available metrics are: loss,accuracy,val_loss,val_accuracy,lr\n",
            "787/787 - 47s - loss: 0.0130 - accuracy: 0.9959 - val_loss: 0.0096 - val_accuracy: 0.9978 - lr: 0.0010 - 47s/epoch - 60ms/step\n",
            "Epoch 28/50\n",
            "WARNING:tensorflow:Learning rate reduction is conditioned on metric `val_acc` which is not available. Available metrics are: loss,accuracy,val_loss,val_accuracy,lr\n",
            "787/787 - 48s - loss: 0.0141 - accuracy: 0.9960 - val_loss: 0.0087 - val_accuracy: 0.9977 - lr: 0.0010 - 48s/epoch - 61ms/step\n",
            "Epoch 29/50\n",
            "WARNING:tensorflow:Learning rate reduction is conditioned on metric `val_acc` which is not available. Available metrics are: loss,accuracy,val_loss,val_accuracy,lr\n",
            "787/787 - 49s - loss: 0.0116 - accuracy: 0.9966 - val_loss: 0.0083 - val_accuracy: 0.9982 - lr: 0.0010 - 49s/epoch - 62ms/step\n",
            "Epoch 30/50\n",
            "WARNING:tensorflow:Learning rate reduction is conditioned on metric `val_acc` which is not available. Available metrics are: loss,accuracy,val_loss,val_accuracy,lr\n",
            "787/787 - 48s - loss: 0.0116 - accuracy: 0.9965 - val_loss: 0.0135 - val_accuracy: 0.9965 - lr: 0.0010 - 48s/epoch - 61ms/step\n",
            "Epoch 31/50\n",
            "WARNING:tensorflow:Learning rate reduction is conditioned on metric `val_acc` which is not available. Available metrics are: loss,accuracy,val_loss,val_accuracy,lr\n",
            "787/787 - 47s - loss: 0.0122 - accuracy: 0.9964 - val_loss: 0.0106 - val_accuracy: 0.9976 - lr: 0.0010 - 47s/epoch - 60ms/step\n",
            "Epoch 32/50\n",
            "WARNING:tensorflow:Learning rate reduction is conditioned on metric `val_acc` which is not available. Available metrics are: loss,accuracy,val_loss,val_accuracy,lr\n",
            "787/787 - 49s - loss: 0.0114 - accuracy: 0.9968 - val_loss: 0.0074 - val_accuracy: 0.9979 - lr: 0.0010 - 49s/epoch - 63ms/step\n",
            "Epoch 33/50\n",
            "WARNING:tensorflow:Learning rate reduction is conditioned on metric `val_acc` which is not available. Available metrics are: loss,accuracy,val_loss,val_accuracy,lr\n",
            "787/787 - 48s - loss: 0.0121 - accuracy: 0.9964 - val_loss: 0.0071 - val_accuracy: 0.9980 - lr: 0.0010 - 48s/epoch - 60ms/step\n",
            "Epoch 34/50\n",
            "WARNING:tensorflow:Learning rate reduction is conditioned on metric `val_acc` which is not available. Available metrics are: loss,accuracy,val_loss,val_accuracy,lr\n",
            "787/787 - 49s - loss: 0.0115 - accuracy: 0.9965 - val_loss: 0.0087 - val_accuracy: 0.9973 - lr: 0.0010 - 49s/epoch - 62ms/step\n",
            "Epoch 35/50\n",
            "WARNING:tensorflow:Learning rate reduction is conditioned on metric `val_acc` which is not available. Available metrics are: loss,accuracy,val_loss,val_accuracy,lr\n",
            "787/787 - 48s - loss: 0.0115 - accuracy: 0.9967 - val_loss: 0.0126 - val_accuracy: 0.9976 - lr: 0.0010 - 48s/epoch - 61ms/step\n",
            "Epoch 36/50\n",
            "WARNING:tensorflow:Learning rate reduction is conditioned on metric `val_acc` which is not available. Available metrics are: loss,accuracy,val_loss,val_accuracy,lr\n",
            "787/787 - 49s - loss: 0.0113 - accuracy: 0.9965 - val_loss: 0.0191 - val_accuracy: 0.9953 - lr: 0.0010 - 49s/epoch - 63ms/step\n",
            "Epoch 37/50\n",
            "WARNING:tensorflow:Learning rate reduction is conditioned on metric `val_acc` which is not available. Available metrics are: loss,accuracy,val_loss,val_accuracy,lr\n",
            "787/787 - 49s - loss: 0.0110 - accuracy: 0.9968 - val_loss: 0.0078 - val_accuracy: 0.9979 - lr: 0.0010 - 49s/epoch - 62ms/step\n",
            "Epoch 38/50\n",
            "WARNING:tensorflow:Learning rate reduction is conditioned on metric `val_acc` which is not available. Available metrics are: loss,accuracy,val_loss,val_accuracy,lr\n",
            "787/787 - 49s - loss: 0.0123 - accuracy: 0.9967 - val_loss: 0.0089 - val_accuracy: 0.9978 - lr: 0.0010 - 49s/epoch - 63ms/step\n",
            "Epoch 39/50\n",
            "WARNING:tensorflow:Learning rate reduction is conditioned on metric `val_acc` which is not available. Available metrics are: loss,accuracy,val_loss,val_accuracy,lr\n",
            "787/787 - 47s - loss: 0.0104 - accuracy: 0.9969 - val_loss: 0.0113 - val_accuracy: 0.9975 - lr: 0.0010 - 47s/epoch - 60ms/step\n",
            "Epoch 40/50\n",
            "WARNING:tensorflow:Learning rate reduction is conditioned on metric `val_acc` which is not available. Available metrics are: loss,accuracy,val_loss,val_accuracy,lr\n",
            "787/787 - 50s - loss: 0.0103 - accuracy: 0.9969 - val_loss: 0.0079 - val_accuracy: 0.9983 - lr: 0.0010 - 50s/epoch - 63ms/step\n",
            "Epoch 41/50\n",
            "WARNING:tensorflow:Learning rate reduction is conditioned on metric `val_acc` which is not available. Available metrics are: loss,accuracy,val_loss,val_accuracy,lr\n",
            "787/787 - 48s - loss: 0.0105 - accuracy: 0.9969 - val_loss: 0.0068 - val_accuracy: 0.9987 - lr: 0.0010 - 48s/epoch - 61ms/step\n",
            "Epoch 42/50\n",
            "WARNING:tensorflow:Learning rate reduction is conditioned on metric `val_acc` which is not available. Available metrics are: loss,accuracy,val_loss,val_accuracy,lr\n",
            "787/787 - 48s - loss: 0.0109 - accuracy: 0.9968 - val_loss: 0.0087 - val_accuracy: 0.9979 - lr: 0.0010 - 48s/epoch - 61ms/step\n",
            "Epoch 43/50\n",
            "WARNING:tensorflow:Learning rate reduction is conditioned on metric `val_acc` which is not available. Available metrics are: loss,accuracy,val_loss,val_accuracy,lr\n",
            "787/787 - 49s - loss: 0.0104 - accuracy: 0.9970 - val_loss: 0.0071 - val_accuracy: 0.9984 - lr: 0.0010 - 49s/epoch - 62ms/step\n",
            "Epoch 44/50\n",
            "WARNING:tensorflow:Learning rate reduction is conditioned on metric `val_acc` which is not available. Available metrics are: loss,accuracy,val_loss,val_accuracy,lr\n",
            "787/787 - 48s - loss: 0.0099 - accuracy: 0.9969 - val_loss: 0.0106 - val_accuracy: 0.9971 - lr: 0.0010 - 48s/epoch - 61ms/step\n",
            "Epoch 45/50\n",
            "WARNING:tensorflow:Learning rate reduction is conditioned on metric `val_acc` which is not available. Available metrics are: loss,accuracy,val_loss,val_accuracy,lr\n",
            "787/787 - 62s - loss: 0.0100 - accuracy: 0.9970 - val_loss: 0.0076 - val_accuracy: 0.9979 - lr: 0.0010 - 62s/epoch - 78ms/step\n",
            "Epoch 46/50\n",
            "WARNING:tensorflow:Learning rate reduction is conditioned on metric `val_acc` which is not available. Available metrics are: loss,accuracy,val_loss,val_accuracy,lr\n",
            "787/787 - 48s - loss: 0.0110 - accuracy: 0.9969 - val_loss: 0.0080 - val_accuracy: 0.9981 - lr: 0.0010 - 48s/epoch - 60ms/step\n",
            "Epoch 47/50\n",
            "WARNING:tensorflow:Learning rate reduction is conditioned on metric `val_acc` which is not available. Available metrics are: loss,accuracy,val_loss,val_accuracy,lr\n",
            "787/787 - 50s - loss: 0.0104 - accuracy: 0.9968 - val_loss: 0.0059 - val_accuracy: 0.9989 - lr: 0.0010 - 50s/epoch - 63ms/step\n",
            "Epoch 48/50\n",
            "WARNING:tensorflow:Learning rate reduction is conditioned on metric `val_acc` which is not available. Available metrics are: loss,accuracy,val_loss,val_accuracy,lr\n",
            "787/787 - 49s - loss: 0.0110 - accuracy: 0.9969 - val_loss: 0.0090 - val_accuracy: 0.9976 - lr: 0.0010 - 49s/epoch - 62ms/step\n",
            "Epoch 49/50\n",
            "WARNING:tensorflow:Learning rate reduction is conditioned on metric `val_acc` which is not available. Available metrics are: loss,accuracy,val_loss,val_accuracy,lr\n",
            "787/787 - 49s - loss: 0.0099 - accuracy: 0.9970 - val_loss: 0.0094 - val_accuracy: 0.9976 - lr: 0.0010 - 49s/epoch - 62ms/step\n",
            "Epoch 50/50\n",
            "WARNING:tensorflow:Learning rate reduction is conditioned on metric `val_acc` which is not available. Available metrics are: loss,accuracy,val_loss,val_accuracy,lr\n",
            "787/787 - 48s - loss: 0.0095 - accuracy: 0.9972 - val_loss: 0.0064 - val_accuracy: 0.9982 - lr: 0.0010 - 48s/epoch - 61ms/step\n"
          ]
        }
      ]
    },
    {
      "cell_type": "code",
      "source": [
        "# Draw the loss and accuracy curves of the training set and the validation set.\n",
        "# Can judge whether it is under-fitting or over-fitting\n",
        "fig, ax = plt.subplots(2,1)\n",
        "ax[0].plot(history.history['loss'], color='b', label=\"Training loss\")\n",
        "ax[0].plot(history.history['val_loss'], color='r', label=\"validation loss\",axes =ax[0])\n",
        "legend = ax[0].legend(loc='best', shadow=True)\n",
        "\n",
        "ax[1].plot(history.history['accuracy'], color='b', label=\"Training accuracy\")\n",
        "ax[1].plot(history.history['val_accuracy'], color='r',label=\"Validation accuracy\")\n",
        "legend = ax[1].legend(loc='best', shadow=True)"
      ],
      "metadata": {
        "_uuid": "3e03c94fda973c4b8c91b96b019356a4d62ee999",
        "execution": {
          "iopub.status.busy": "2021-12-22T08:11:49.388384Z",
          "iopub.execute_input": "2021-12-22T08:11:49.388686Z",
          "iopub.status.idle": "2021-12-22T08:11:49.798129Z",
          "shell.execute_reply.started": "2021-12-22T08:11:49.388637Z",
          "shell.execute_reply": "2021-12-22T08:11:49.797270Z"
        },
        "trusted": true,
        "id": "Fi_VWVthQcGW",
        "colab": {
          "base_uri": "https://localhost:8080/",
          "height": 272
        },
        "outputId": "8d9b5521-8444-4b16-a1c3-18205518b0bc"
      },
      "execution_count": 77,
      "outputs": [
        {
          "output_type": "display_data",
          "data": {
            "image/png": "[encoded data removed]",
            "text/plain": [
              "<Figure size 432x288 with 2 Axes>"
            ]
          },
          "metadata": {}
        }
      ]
    },
    {
      "cell_type": "code",
      "source": [
        "# Draw a confusion matrix that can be used to observe high false positives\n",
        "\n",
        "def plot_confusion_matrix(cm, classes,\n",
        "                          normalize=False,\n",
        "                          title='Confusion matrix',\n",
        "                          cmap=plt.cm.Blues):\n",
        "    \"\"\"\n",
        "    This function prints and plots the confusion matrix.\n",
        "    Normalization can be applied by setting `normalize=True`.\n",
        "    \"\"\"\n",
        "    plt.imshow(cm, interpolation='nearest', cmap=cmap)\n",
        "    plt.title(title)\n",
        "    plt.colorbar()\n",
        "    tick_marks = np.arange(len(classes))\n",
        "    plt.xticks(tick_marks, classes, rotation=45)\n",
        "    plt.yticks(tick_marks, classes)\n",
        "\n",
        "    if normalize:\n",
        "        cm = cm.astype('float') / cm.sum(axis=1)[:, np.newaxis]\n",
        "\n",
        "    thresh = cm.max() / 2.\n",
        "    for i, j in itertools.product(range(cm.shape[0]), range(cm.shape[1])):\n",
        "        plt.text(j, i, cm[i, j],\n",
        "                 horizontalalignment=\"center\",\n",
        "                 color=\"white\" if cm[i, j] > thresh else \"black\")\n",
        "\n",
        "    plt.tight_layout()\n",
        "    plt.ylabel('True label')\n",
        "    plt.xlabel('Predicted label')\n",
        "\n",
        "# Predict the values from the validation dataset\n",
        "Y_pred = model.predict(X_val)\n",
        "# Convert predictions classes to one hot vectors \n",
        "Y_pred_classes = np.argmax(Y_pred,axis = 1) \n",
        "# Convert validation observations to one hot vectors\n",
        "Y_true = np.argmax(Y_val,axis = 1) \n",
        "# compute the confusion matrix\n",
        "confusion_mtx = confusion_matrix(Y_true, Y_pred_classes) \n",
        "# plot the confusion matrix\n",
        "plot_confusion_matrix(confusion_mtx, classes = range(10)) "
      ],
      "metadata": {
        "_uuid": "c690e863d42af0c72a31dab0aa008c5e85973643",
        "execution": {
          "iopub.status.busy": "2021-12-22T08:11:49.801753Z",
          "iopub.execute_input": "2021-12-22T08:11:49.802343Z",
          "iopub.status.idle": "2021-12-22T08:11:51.731193Z",
          "shell.execute_reply.started": "2021-12-22T08:11:49.802286Z",
          "shell.execute_reply": "2021-12-22T08:11:51.730216Z"
        },
        "trusted": true,
        "id": "BcG83hF4QcGW",
        "colab": {
          "base_uri": "https://localhost:8080/",
          "height": 310
        },
        "outputId": "936b02cb-b1b1-4be7-9ce3-a0af2c1195f7"
      },
      "execution_count": 78,
      "outputs": [
        {
          "output_type": "display_data",
          "data": {
            "image/png": "[encoded data removed]",
            "text/plain": [
              "<Figure size 432x288 with 2 Axes>"
            ]
          },
          "metadata": {}
        }
      ]
    },
    {
      "cell_type": "code",
      "source": [
        "# Show some wrong results, and the difference between the predicted label and the real labe\n",
        "errors = (Y_pred_classes - Y_true != 0)\n",
        "\n",
        "Y_pred_classes_errors = Y_pred_classes[errors]\n",
        "Y_pred_errors = Y_pred[errors]\n",
        "Y_true_errors = Y_true[errors]\n",
        "X_val_errors = X_val[errors]\n",
        "\n",
        "def display_errors(errors_index,img_errors,pred_errors, obs_errors):\n",
        "    \"\"\" This function shows 6 images with their predicted and real labels\"\"\"\n",
        "    n = 0\n",
        "    nrows = 2\n",
        "    ncols = 3\n",
        "    fig, ax = plt.subplots(nrows,ncols,sharex=True,sharey=True)\n",
        "    for row in range(nrows):\n",
        "        for col in range(ncols):\n",
        "            error = errors_index[n]\n",
        "            ax[row,col].imshow((img_errors[error]).reshape((28,28)))\n",
        "            ax[row,col].set_title(\"Predicted label :{}\\nTrue label :{}\".format(pred_errors[error],obs_errors[error]))\n",
        "            n += 1\n",
        "\n",
        "# Probabilities of the wrong predicted numbers\n",
        "Y_pred_errors_prob = np.max(Y_pred_errors,axis = 1)\n",
        "\n",
        "# Predicted probabilities of the true values in the error set\n",
        "true_prob_errors = np.diagonal(np.take(Y_pred_errors, Y_true_errors, axis=1))\n",
        "\n",
        "# Difference between the probability of the predicted label and the true label\n",
        "delta_pred_true_errors = Y_pred_errors_prob - true_prob_errors\n",
        "\n",
        "# Sorted list of the delta prob errors\n",
        "sorted_dela_errors = np.argsort(delta_pred_true_errors)\n",
        "\n",
        "# Top 6 errors \n",
        "most_important_errors = sorted_dela_errors[-6:]\n",
        "\n",
        "# Show the top 6 errors\n",
        "display_errors(most_important_errors, X_val_errors, Y_pred_classes_errors, Y_true_errors)"
      ],
      "metadata": {
        "_uuid": "3cf2a85c5fc426258b70fc09c9c1c6e5c55f90cb",
        "execution": {
          "iopub.status.busy": "2021-12-22T08:11:51.732888Z",
          "iopub.execute_input": "2021-12-22T08:11:51.738237Z",
          "iopub.status.idle": "2021-12-22T08:11:52.466545Z",
          "shell.execute_reply.started": "2021-12-22T08:11:51.738173Z",
          "shell.execute_reply": "2021-12-22T08:11:52.465737Z"
        },
        "trusted": true,
        "id": "V3WccO0MQcGX",
        "colab": {
          "base_uri": "https://localhost:8080/",
          "height": 298
        },
        "outputId": "fc4d9246-aeae-4004-d9eb-634bfb16ced1"
      },
      "execution_count": 79,
      "outputs": [
        {
          "output_type": "display_data",
          "data": {
            "image/png": "[encoded data removed]",
            "text/plain": [
              "<Figure size 432x288 with 6 Axes>"
            ]
          },
          "metadata": {}
        }
      ]
    },
    {
      "cell_type": "code",
      "source": [
        "# Make predictions about test sets\n",
        "results = model.predict(test)\n",
        "\n",
        "# Convert one-hot vector to number\n",
        "results = np.argmax(results,axis = 1)\n",
        "\n",
        "results = pd.Series(results,name=\"Label\")"
      ],
      "metadata": {
        "_uuid": "86708a448631dade2fdf0a7584a38c4c22260e6f",
        "execution": {
          "iopub.status.busy": "2021-12-22T08:11:52.468052Z",
          "iopub.execute_input": "2021-12-22T08:11:52.468549Z",
          "iopub.status.idle": "2021-12-22T08:11:54.651342Z",
          "shell.execute_reply.started": "2021-12-22T08:11:52.468499Z",
          "shell.execute_reply": "2021-12-22T08:11:54.650637Z"
        },
        "trusted": true,
        "id": "uFV-tRWvQcGX"
      },
      "execution_count": 80,
      "outputs": []
    },
    {
      "cell_type": "code",
      "source": [
        "# Save the final result in cnn_mnist_submission.csv\n",
        "submission = pd.concat([pd.Series(range(1,28001),name = \"ImageId\"),results],axis = 1)\n",
        "\n",
        "submission.to_csv(\"cnn_mnist_submission.csv\",index=False)"
      ],
      "metadata": {
        "_uuid": "b5ed81e948596d3135ffef4a4210c20421cbf4cc",
        "execution": {
          "iopub.status.busy": "2021-12-22T08:11:54.653514Z",
          "iopub.execute_input": "2021-12-22T08:11:54.653984Z",
          "iopub.status.idle": "2021-12-22T08:11:54.928071Z",
          "shell.execute_reply.started": "2021-12-22T08:11:54.653932Z",
          "shell.execute_reply": "2021-12-22T08:11:54.927288Z"
        },
        "trusted": true,
        "id": "MqJFZNVkQcGX"
      },
      "execution_count": 81,
      "outputs": []
    },
    {
      "cell_type": "code",
      "source": [
        ""
      ],
      "metadata": {
        "_uuid": "80fc5829042b3bb244f9d2c8588c6949164d13fb",
        "trusted": true,
        "id": "HnA1VqkzQcGY"
      },
      "execution_count": 81,
      "outputs": []
    }
  ]
}